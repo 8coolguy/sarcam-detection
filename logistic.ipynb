{
 "cells": [
  {
   "cell_type": "markdown",
   "id": "0b40bcd5",
   "metadata": {},
   "source": [
    "### Define the network"
   ]
  },
  {
   "cell_type": "code",
   "execution_count": 20,
   "id": "cccbc797",
   "metadata": {},
   "outputs": [],
   "source": [
    "import numpy as np\n",
    "import pandas as pd\n",
    "from collections import OrderedDict\n",
    "from scipy import sparse\n",
    "from sklearn.feature_extraction.text import TfidfVectorizer\n",
    "from sklearn.linear_model import LogisticRegression\n",
    "from sklearn.metrics import f1_score, precision_score, recall_score\n",
    "import sklearn.neighbors\n",
    "import joblib"
   ]
  },
  {
   "cell_type": "code",
   "execution_count": 11,
   "id": "411d0636-2f11-4ebb-9128-d935a434f644",
   "metadata": {},
   "outputs": [],
   "source": [
    "word_embeddings = pd.read_csv('glove.6B.50d.txt.zip',\n",
    "                               header=None, sep=' ', index_col=0,\n",
    "                               nrows=100000, compression='zip', encoding='utf-8', quoting=3)\n",
    "word_list = word_embeddings.index.values.tolist()\n",
    "word2vec = OrderedDict(zip(word_list, word_embeddings.values))"
   ]
  },
  {
   "cell_type": "code",
   "execution_count": 12,
   "id": "07d7f010",
   "metadata": {},
   "outputs": [],
   "source": [
    "#two numpy arrays\n",
    "def accuracy(pred,actual):\n",
    "    cor = 0\n",
    "    for i in range(pred.shape[0]):\n",
    "        if round(pred[i].item()) == actual[i]:\n",
    "            cor += 1\n",
    "    return cor / pred.shape[0]"
   ]
  },
  {
   "cell_type": "markdown",
   "id": "36ac3e12-52eb-452b-bba3-deb603d31512",
   "metadata": {},
   "source": [
    "## Control Metrics for Unbalacned Set"
   ]
  },
  {
   "cell_type": "code",
   "execution_count": 13,
   "id": "5811199f-dd72-416a-a782-96e4e7f6c123",
   "metadata": {},
   "outputs": [
    {
     "name": "stdout",
     "output_type": "stream",
     "text": [
      "0.9730664602834729\n",
      "0.016944573521942577\n",
      "0.00872565386755704\n",
      "0.2917752139933011\n"
     ]
    }
   ],
   "source": [
    "testDf = pd.read_csv(\"testu.csv\", delimiter =\"|\")\n",
    "trainDf = pd.read_csv(\"trainu.csv\",  delimiter =\"|\")\n",
    "\n",
    "tfidf = TfidfVectorizer()\n",
    "X = tfidf.fit_transform(trainDf['text'])\n",
    "testX = tfidf.transform(testDf['text'])\n",
    "\n",
    "clf = LogisticRegression(random_state=0, max_iter = 250).fit(X, trainDf['class'])\n",
    "predictions = clf.predict(testX)\n",
    "\n",
    "print(accuracy(predictions,testDf[\"class\"]))\n",
    "print(f1_score(predictions,testDf[\"class\"]))\n",
    "print(precision_score(predictions,testDf[\"class\"]))\n",
    "print(recall_score(predictions,testDf[\"class\"]))"
   ]
  },
  {
   "cell_type": "code",
   "execution_count": 14,
   "id": "fdcc3c07-9cc3-4a8f-82ff-694943fa7ae3",
   "metadata": {},
   "outputs": [],
   "source": [
    "X = []\n",
    "for response in trainDf['text']:\n",
    "    v=np.zeros(50)\n",
    "    response = response.split()\n",
    "    for word in response:\n",
    "        v+=word2vec.get(word,np.zeros(50))\n",
    "    v=v/len(response)\n",
    "    X.append(v)\n",
    "testX = []\n",
    "for response in testDf['text']:\n",
    "    v=np.zeros(50)\n",
    "    response = response.split()\n",
    "    for word in response:\n",
    "        v+=word2vec.get(word,np.zeros(50))\n",
    "    v=v/len(response)\n",
    "    testX.append(v)"
   ]
  },
  {
   "cell_type": "code",
   "execution_count": 15,
   "id": "01fba54f-feba-4e98-a512-e4cd6e39fe26",
   "metadata": {},
   "outputs": [
    {
     "name": "stdout",
     "output_type": "stream",
     "text": [
      "0.9733967306344034\n",
      "0.0\n",
      "0.0\n",
      "0.0\n"
     ]
    }
   ],
   "source": [
    "clf = LogisticRegression(random_state=0, max_iter = 250).fit(np.array(X), trainDf['class'])\n",
    "predictions = clf.predict(np.array(testX))\n",
    "print(accuracy(predictions,testDf[\"class\"]))\n",
    "print(f1_score(predictions,testDf[\"class\"]))\n",
    "print(precision_score(predictions,testDf[\"class\"]))\n",
    "print(recall_score(predictions,testDf[\"class\"]))"
   ]
  },
  {
   "cell_type": "markdown",
   "id": "4696be01-f4bc-4505-b854-f324f6f4451e",
   "metadata": {},
   "source": [
    "## Control Metrics for Balacned Set"
   ]
  },
  {
   "cell_type": "code",
   "execution_count": 16,
   "id": "d71c4501",
   "metadata": {
    "editable": true,
    "slideshow": {
     "slide_type": ""
    },
    "tags": []
   },
   "outputs": [
    {
     "name": "stdout",
     "output_type": "stream",
     "text": [
      "0.6212847555129435\n",
      "0.6070156295131424\n",
      "0.5849751028361118\n",
      "0.6307820576955144\n"
     ]
    }
   ],
   "source": [
    "testDf = pd.read_csv(\"testb.csv\", delimiter =\"|\")\n",
    "trainDf = pd.read_csv(\"trainb.csv\",  delimiter =\"|\")\n",
    "\n",
    "tfidf = TfidfVectorizer()\n",
    "X = tfidf.fit_transform(trainDf['text'])\n",
    "testX = tfidf.transform(testDf['text'])\n",
    "\n",
    "clf = LogisticRegression(random_state=0, max_iter = 250).fit(X, trainDf['class'])\n",
    "predictions = clf.predict(testX)\n",
    "\n",
    "print(accuracy(predictions,testDf[\"class\"]))\n",
    "print(f1_score(predictions,testDf[\"class\"]))\n",
    "print(precision_score(predictions,testDf[\"class\"]))\n",
    "print(recall_score(predictions,testDf[\"class\"]))"
   ]
  },
  {
   "cell_type": "code",
   "execution_count": 17,
   "id": "03859bfd-dd1a-4dad-8e23-4a7c211e9903",
   "metadata": {},
   "outputs": [],
   "source": [
    "X = []\n",
    "for response in trainDf['text']:\n",
    "    v=np.zeros(50)\n",
    "    response = response.split()\n",
    "    for word in response:\n",
    "        v+=word2vec.get(word,np.zeros(50))\n",
    "    v=v/len(response)\n",
    "    X.append(v)\n",
    "testX = []\n",
    "for response in testDf['text']:\n",
    "    v=np.zeros(50)\n",
    "    response = response.split()\n",
    "    for word in response:\n",
    "        v+=word2vec.get(word,np.zeros(50))\n",
    "    v=v/len(response)\n",
    "    testX.append(v)"
   ]
  },
  {
   "cell_type": "code",
   "execution_count": 18,
   "id": "39d4152a-6bec-4529-92c1-06658a792d51",
   "metadata": {},
   "outputs": [
    {
     "name": "stdout",
     "output_type": "stream",
     "text": [
      "0.5350879905978412\n",
      "0.5297650702286734\n",
      "0.5237682862709925\n",
      "0.5359007626340938\n"
     ]
    }
   ],
   "source": [
    "clf = LogisticRegression(random_state=0, max_iter = 250).fit(np.array(X), trainDf['class'])\n",
    "predictions = clf.predict(np.array(testX))\n",
    "print(accuracy(predictions,testDf[\"class\"]))\n",
    "print(f1_score(predictions,testDf[\"class\"]))\n",
    "print(precision_score(predictions,testDf[\"class\"]))\n",
    "print(recall_score(predictions,testDf[\"class\"]))"
   ]
  },
  {
   "cell_type": "code",
   "execution_count": 21,
   "id": "6aa8d38c-f62a-406f-a6ea-af9a091b3a92",
   "metadata": {},
   "outputs": [
    {
     "data": {
      "text/plain": [
       "['log.pkl']"
      ]
     },
     "execution_count": 21,
     "metadata": {},
     "output_type": "execute_result"
    }
   ],
   "source": [
    "joblib.dump(clf, 'log.pkl', compress=9)"
   ]
  },
  {
   "cell_type": "code",
   "execution_count": null,
   "id": "12086f46-7e3c-40ba-a4e5-455a6dd54a32",
   "metadata": {},
   "outputs": [],
   "source": []
  }
 ],
 "metadata": {
  "kernelspec": {
   "display_name": "PyTorch Bundle",
   "language": "python",
   "name": "pytorch-cpu"
  },
  "language_info": {
   "codemirror_mode": {
    "name": "ipython",
    "version": 3
   },
   "file_extension": ".py",
   "mimetype": "text/x-python",
   "name": "python",
   "nbconvert_exporter": "python",
   "pygments_lexer": "ipython3",
   "version": "3.9.18"
  }
 },
 "nbformat": 4,
 "nbformat_minor": 5
}
