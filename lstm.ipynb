{
 "cells": [
  {
   "cell_type": "code",
   "execution_count": 1,
   "id": "382f61f7-8c7b-4afd-8d3c-c8f81954c724",
   "metadata": {},
   "outputs": [
    {
     "name": "stderr",
     "output_type": "stream",
     "text": [
      "2024-06-13 19:57:33.418558: I tensorflow/core/platform/cpu_feature_guard.cc:193] This TensorFlow binary is optimized with oneAPI Deep Neural Network Library (oneDNN) to use the following CPU instructions in performance-critical operations:  AVX2 AVX512F AVX512_VNNI FMA\n",
      "To enable them in other operations, rebuild TensorFlow with the appropriate compiler flags.\n",
      "2024-06-13 19:57:33.558515: I tensorflow/core/util/port.cc:104] oneDNN custom operations are on. You may see slightly different numerical results due to floating-point round-off errors from different computation orders. To turn them off, set the environment variable `TF_ENABLE_ONEDNN_OPTS=0`.\n",
      "2024-06-13 19:57:33.562208: W tensorflow/compiler/xla/stream_executor/platform/default/dso_loader.cc:64] Could not load dynamic library 'libcudart.so.11.0'; dlerror: libcudart.so.11.0: cannot open shared object file: No such file or directory\n",
      "2024-06-13 19:57:33.562224: I tensorflow/compiler/xla/stream_executor/cuda/cudart_stub.cc:29] Ignore above cudart dlerror if you do not have a GPU set up on your machine.\n",
      "2024-06-13 19:57:34.828012: W tensorflow/compiler/xla/stream_executor/platform/default/dso_loader.cc:64] Could not load dynamic library 'libnvinfer.so.7'; dlerror: libnvinfer.so.7: cannot open shared object file: No such file or directory\n",
      "2024-06-13 19:57:34.828070: W tensorflow/compiler/xla/stream_executor/platform/default/dso_loader.cc:64] Could not load dynamic library 'libnvinfer_plugin.so.7'; dlerror: libnvinfer_plugin.so.7: cannot open shared object file: No such file or directory\n",
      "2024-06-13 19:57:34.828083: W tensorflow/compiler/tf2tensorrt/utils/py_utils.cc:38] TF-TRT Warning: Cannot dlopen some TensorRT libraries. If you would like to use Nvidia GPU with TensorRT, please make sure the missing libraries mentioned above are installed properly.\n"
     ]
    }
   ],
   "source": [
    "import numpy as np\n",
    "import tensorflow as tf\n",
    "import pandas as pd\n",
    "import tensorflow_datasets as tfds\n",
    "import tensorflow.keras.backend as K"
   ]
  },
  {
   "cell_type": "code",
   "execution_count": 2,
   "id": "c1ab1f9c-8f5d-4e4a-875c-890f9262374a",
   "metadata": {},
   "outputs": [],
   "source": [
    "import matplotlib.pyplot as plt\n",
    "\n",
    "\n",
    "def plot_graphs(history, metric):\n",
    "  plt.plot(history.history[metric])\n",
    "  plt.plot(history.history['val_'+metric], '')\n",
    "  plt.xlabel(\"Epochs\")\n",
    "  plt.ylabel(metric)\n",
    "  plt.legend([metric, 'val_'+metric])\n",
    "def recall_m(y_true, y_pred):\n",
    "    true_positives = K.sum(K.round(K.clip(y_true * y_pred, 0, 1)))\n",
    "    possible_positives = K.sum(K.round(K.clip(y_true, 0, 1)))\n",
    "    recall = true_positives / (possible_positives + K.epsilon())\n",
    "    return recall\n",
    "\n",
    "def precision_m(y_true, y_pred):\n",
    "    true_positives = K.sum(K.round(K.clip(y_true * y_pred, 0, 1)))\n",
    "    predicted_positives = K.sum(K.round(K.clip(y_pred, 0, 1)))\n",
    "    precision = true_positives / (predicted_positives + K.epsilon())\n",
    "    return precision\n",
    "\n",
    "def f1_m(y_true, y_pred):\n",
    "    precision = precision_m(y_true, y_pred)\n",
    "    recall = recall_m(y_true, y_pred)\n",
    "    return 2*((precision*recall)/(precision+recall+K.epsilon()))\n"
   ]
  },
  {
   "cell_type": "code",
   "execution_count": 3,
   "id": "a5928050-0290-43cf-aadb-8822ddbdbbcc",
   "metadata": {
    "editable": true,
    "slideshow": {
     "slide_type": ""
    },
    "tags": []
   },
   "outputs": [],
   "source": [
    "VOCAB_SIZE = 10000\n",
    "BUFFER_SIZE = 10000\n",
    "BATCH_SIZE = 64"
   ]
  },
  {
   "cell_type": "code",
   "execution_count": 4,
   "id": "3c13f2b7-e068-4b4a-8f8d-1e3b8c64bd64",
   "metadata": {},
   "outputs": [
    {
     "name": "stderr",
     "output_type": "stream",
     "text": [
      "2024-06-13 19:57:38.292273: W tensorflow/compiler/xla/stream_executor/platform/default/dso_loader.cc:64] Could not load dynamic library 'libcuda.so.1'; dlerror: libcuda.so.1: cannot open shared object file: No such file or directory; LD_LIBRARY_PATH: /WAVE/archive/users/achoudhury2/.local/lib/python3.9/site-packages/cv2/../../lib64:\n",
      "2024-06-13 19:57:38.292307: W tensorflow/compiler/xla/stream_executor/cuda/cuda_driver.cc:265] failed call to cuInit: UNKNOWN ERROR (303)\n",
      "2024-06-13 19:57:38.292324: I tensorflow/compiler/xla/stream_executor/cuda/cuda_diagnostics.cc:156] kernel driver does not appear to be running on this host (mem01.wave.scu.edu): /proc/driver/nvidia/version does not exist\n",
      "2024-06-13 19:57:38.292665: I tensorflow/core/platform/cpu_feature_guard.cc:193] This TensorFlow binary is optimized with oneAPI Deep Neural Network Library (oneDNN) to use the following CPU instructions in performance-critical operations:  AVX2 AVX512F AVX512_VNNI FMA\n",
      "To enable them in other operations, rebuild TensorFlow with the appropriate compiler flags.\n"
     ]
    }
   ],
   "source": [
    "df = pd.read_csv(\"trainb.csv\", delimiter=\"|\")\n",
    "dataset = tf.data.Dataset.from_tensor_slices((df[\"text\"],df[\"class\"]))\n",
    "\n",
    "testDf = pd.read_csv(\"testb.csv\", delimiter=\"|\")\n",
    "test = tf.data.Dataset.from_tensor_slices((testDf[\"text\"],testDf[\"class\"]))\n"
   ]
  },
  {
   "cell_type": "code",
   "execution_count": 5,
   "id": "5be7f789-3826-4e13-8641-82a55e69d103",
   "metadata": {},
   "outputs": [],
   "source": [
    "train_dataset = dataset.shuffle(BUFFER_SIZE).batch(BATCH_SIZE).prefetch(tf.data.AUTOTUNE)\n",
    "test_dataset = test.batch(BATCH_SIZE).prefetch(tf.data.AUTOTUNE)"
   ]
  },
  {
   "cell_type": "code",
   "execution_count": 6,
   "id": "0f40685c-18c7-4016-bd98-9ac8dd03ce01",
   "metadata": {},
   "outputs": [
    {
     "name": "stdout",
     "output_type": "stream",
     "text": [
      "WARNING:tensorflow:From /WAVE/users/unix/achoudhury2/.local/lib/python3.9/site-packages/tensorflow/python/autograph/pyct/static_analysis/liveness.py:83: Analyzer.lamba_check (from tensorflow.python.autograph.pyct.static_analysis.liveness) is deprecated and will be removed after 2023-09-23.\n",
      "Instructions for updating:\n",
      "Lambda fuctions will be no more assumed to be used in the statement where they are used, or at least in the same block. https://github.com/tensorflow/tensorflow/issues/56089\n"
     ]
    }
   ],
   "source": [
    "encoder = tf.keras.layers.TextVectorization(max_tokens=VOCAB_SIZE)\n",
    "# encoder.adapt(df['text'])  # train_dataset.map(lambda text, label: text)\n",
    "encoder.adapt(train_dataset.map(lambda text, label: text))\n"
   ]
  },
  {
   "cell_type": "code",
   "execution_count": 7,
   "id": "adf5fe8f-1ad8-4053-8d9d-85283b3bb5ee",
   "metadata": {},
   "outputs": [
    {
     "data": {
      "text/plain": [
       "array(['', '[UNK]', 'the', 'to', 'a', 'of', 'is', 'in', 'and', 'i', 'for',\n",
       "       'this', 'that', 'you', 'on', 'it', 'be', 'with', 'are', 'what',\n",
       "       'have', 'not', 'my', 'so', 'at', 'they', 'just', 'was', 'but',\n",
       "       'like', 'its', 'as', 'if', 'all', 'he', 'from', 'people', 'how',\n",
       "       'we', 'your', 'will', 'about', 'do', 'an', 'no', 'by', 'can',\n",
       "       'one', 'has', 'would', 'dont', 'get', 'his', 'who', 'out', 'me',\n",
       "       'when', 'because', 'why', 'more', 'up', 'im', 'or', 'their', 'new',\n",
       "       'now', 'only', 'good', 'should', 'think', 'game', 'there', 'trump',\n",
       "       'than', 'time', 'after', 'know', 'them', 'well', 'some', 'see',\n",
       "       'us', 'thats', 'make', 'him', 'really', 'right', 'cant', 'man',\n",
       "       'were', 'being', 'over', 'first', 'her', 'got', 'been', 'did',\n",
       "       'too', 'going', 'could'], dtype='<U17')"
      ]
     },
     "execution_count": 7,
     "metadata": {},
     "output_type": "execute_result"
    }
   ],
   "source": [
    "vocab = np.array(encoder.get_vocabulary())\n",
    "vocab[:100]"
   ]
  },
  {
   "cell_type": "code",
   "execution_count": 8,
   "id": "1807676b-c12a-419c-b708-54d6d4ca32aa",
   "metadata": {},
   "outputs": [
    {
     "name": "stdout",
     "output_type": "stream",
     "text": [
      "[False, True, True, True, True]\n"
     ]
    }
   ],
   "source": [
    "model = tf.keras.Sequential([\n",
    "    encoder,\n",
    "    tf.keras.layers.Embedding(\n",
    "        input_dim=len(encoder.get_vocabulary()),\n",
    "        output_dim=64,\n",
    "        # Use masking to handle the variable sequence lengths\n",
    "        mask_zero=True),\n",
    "    tf.keras.layers.Bidirectional(tf.keras.layers.LSTM(64)),\n",
    "    tf.keras.layers.Dense(64, activation='relu'),\n",
    "    tf.keras.layers.Dense(1)\n",
    "])\n",
    "print([layer.supports_masking for layer in model.layers])"
   ]
  },
  {
   "cell_type": "code",
   "execution_count": 9,
   "id": "68cfbefd-3919-48fc-8ba8-b68a4dba7852",
   "metadata": {
    "editable": true,
    "slideshow": {
     "slide_type": ""
    },
    "tags": []
   },
   "outputs": [],
   "source": [
    "model.compile(loss=tf.keras.losses.BinaryCrossentropy(from_logits=True),\n",
    "              optimizer=tf.keras.optimizers.Adam(1e-4),\n",
    "              metrics=['accuracy', \n",
    "                        f1_m,\n",
    "                        recall_m,\n",
    "                        precision_m,\n",
    "                        # tf.keras.metrics.Precision(),\n",
    "                        # tf.keras.metrics.Recall(),\n",
    "                        # 'F1Score'\n",
    "                      ]\n",
    "             )"
   ]
  },
  {
   "cell_type": "code",
   "execution_count": 10,
   "id": "79655317-ca4a-4df5-85fb-0d1f88af5543",
   "metadata": {},
   "outputs": [],
   "source": [
    "# for example, label in train_dataset.take(1):\n",
    "#     print('texts: ', example.numpy()[:3])\n",
    "#     encoded_example = encoder(example)[:3].numpy()\n",
    "#     for n in range(3):\n",
    "#         print(\"Original: \", example[n].numpy())\n",
    "#         print(\"Round-trip: \", \" \".join(vocab[encoded_example[n]]))\n",
    "#         print()\n",
    "#     print('labels: ', label.numpy()[:3])"
   ]
  },
  {
   "cell_type": "code",
   "execution_count": 11,
   "id": "8ee6aad2-421e-4383-9909-eb3e7be86ba4",
   "metadata": {},
   "outputs": [
    {
     "name": "stdout",
     "output_type": "stream",
     "text": [
      "Epoch 1/10\n",
      "4017/4017 [==============================] - 176s 42ms/step - loss: 0.6523 - accuracy: 0.5790 - f1_m: 0.3445 - recall_m: 0.2464 - precision_m: 0.6263 - val_loss: 0.6386 - val_accuracy: 0.6073 - val_f1_m: 0.4623 - val_recall_m: 0.3427 - val_precision_m: 0.7310\n",
      "Epoch 2/10\n",
      "4017/4017 [==============================] - 169s 42ms/step - loss: 0.6187 - accuracy: 0.6315 - f1_m: 0.5092 - recall_m: 0.3917 - precision_m: 0.7537 - val_loss: 0.6373 - val_accuracy: 0.6250 - val_f1_m: 0.5479 - val_recall_m: 0.4594 - val_precision_m: 0.6885\n",
      "Epoch 3/10\n",
      "4017/4017 [==============================] - 170s 42ms/step - loss: 0.6072 - accuracy: 0.6460 - f1_m: 0.5428 - recall_m: 0.4306 - precision_m: 0.7569 - val_loss: 0.6352 - val_accuracy: 0.6182 - val_f1_m: 0.5259 - val_recall_m: 0.4281 - val_precision_m: 0.6912\n",
      "Epoch 4/10\n",
      "4017/4017 [==============================] - 170s 42ms/step - loss: 0.6001 - accuracy: 0.6544 - f1_m: 0.5619 - recall_m: 0.4530 - precision_m: 0.7590 - val_loss: 0.6343 - val_accuracy: 0.6135 - val_f1_m: 0.4945 - val_recall_m: 0.3844 - val_precision_m: 0.7115\n",
      "Epoch 5/10\n",
      "4017/4017 [==============================] - 170s 42ms/step - loss: 0.5934 - accuracy: 0.6616 - f1_m: 0.5768 - recall_m: 0.4706 - precision_m: 0.7630 - val_loss: 0.6349 - val_accuracy: 0.6229 - val_f1_m: 0.5332 - val_recall_m: 0.4365 - val_precision_m: 0.6985\n",
      "Epoch 6/10\n",
      "4017/4017 [==============================] - 170s 42ms/step - loss: 0.5859 - accuracy: 0.6689 - f1_m: 0.5901 - recall_m: 0.4869 - precision_m: 0.7659 - val_loss: 0.6354 - val_accuracy: 0.6255 - val_f1_m: 0.5386 - val_recall_m: 0.4427 - val_precision_m: 0.7021\n",
      "Epoch 7/10\n",
      "4017/4017 [==============================] - 171s 42ms/step - loss: 0.5777 - accuracy: 0.6765 - f1_m: 0.6036 - recall_m: 0.5027 - precision_m: 0.7711 - val_loss: 0.6400 - val_accuracy: 0.6229 - val_f1_m: 0.5394 - val_recall_m: 0.4458 - val_precision_m: 0.6949\n",
      "Epoch 8/10\n",
      "4017/4017 [==============================] - 171s 43ms/step - loss: 0.5684 - accuracy: 0.6849 - f1_m: 0.6174 - recall_m: 0.5187 - precision_m: 0.7776 - val_loss: 0.6451 - val_accuracy: 0.6141 - val_f1_m: 0.5333 - val_recall_m: 0.4437 - val_precision_m: 0.6782\n",
      "Epoch 9/10\n",
      "4017/4017 [==============================] - 171s 42ms/step - loss: 0.5581 - accuracy: 0.6934 - f1_m: 0.6296 - recall_m: 0.5316 - precision_m: 0.7865 - val_loss: 0.6560 - val_accuracy: 0.6135 - val_f1_m: 0.5399 - val_recall_m: 0.4552 - val_precision_m: 0.6732\n",
      "Epoch 10/10\n",
      "4017/4017 [==============================] - 171s 42ms/step - loss: 0.5463 - accuracy: 0.7017 - f1_m: 0.6407 - recall_m: 0.5428 - precision_m: 0.7959 - val_loss: 0.6708 - val_accuracy: 0.6104 - val_f1_m: 0.5314 - val_recall_m: 0.4437 - val_precision_m: 0.6704\n"
     ]
    }
   ],
   "source": [
    "history = model.fit(train_dataset, epochs=10,\n",
    "                    validation_data=test_dataset,\n",
    "                    validation_steps=30)"
   ]
  },
  {
   "cell_type": "code",
   "execution_count": 12,
   "id": "517b3401-a468-4570-83fe-edf65faf8b71",
   "metadata": {},
   "outputs": [
    {
     "name": "stdout",
     "output_type": "stream",
     "text": [
      "1011/1011 [==============================] - 12s 12ms/step - loss: 0.6626 - accuracy: 0.6294 - f1_m: 0.5528 - recall_m: 0.4641 - precision_m: 0.6959\n",
      "dict_keys(['loss', 'accuracy', 'f1_m', 'recall_m', 'precision_m', 'val_loss', 'val_accuracy', 'val_f1_m', 'val_recall_m', 'val_precision_m'])\n",
      "Test Loss: 0.6625986695289612\n",
      "Test Accuracy: 0.6293879151344299\n",
      "Test F1: 0.5528166890144348\n",
      "Test Recall: 0.46410638093948364\n",
      "Test Precision: 0.6959076523780823\n"
     ]
    },
    {
     "data": {
      "text/plain": [
       "(0.0, 0.6770294487476349)"
      ]
     },
     "execution_count": 12,
     "metadata": {},
     "output_type": "execute_result"
    },
    {
     "data": {
      "image/png": "[encoded data removed]",
      "text/plain": [
       "<Figure size 1600x800 with 2 Axes>"
      ]
     },
     "metadata": {},
     "output_type": "display_data"
    }
   ],
   "source": [
    "test_loss, test_acc, test_f1, test_recall, test_p = model.evaluate(test_dataset)\n",
    "\n",
    "print(history.history.keys())\n",
    "\n",
    "print('Test Loss:', test_loss)\n",
    "print('Test Accuracy:', test_acc)\n",
    "print('Test F1:', test_f1)\n",
    "print('Test Recall:', test_recall)\n",
    "print('Test Precision:', test_p)\n",
    "\n",
    "plt.figure(figsize=(16, 8))\n",
    "plt.subplot(1, 2, 1)\n",
    "plot_graphs(history, 'accuracy')\n",
    "plt.ylim(None, 1)\n",
    "plt.subplot(1, 2, 2)\n",
    "plot_graphs(history, 'loss')\n",
    "plt.ylim(0, None)"
   ]
  },
  {
   "cell_type": "code",
   "execution_count": 13,
   "id": "a2e45cc2-63c8-4c58-b743-f77d30ca66ee",
   "metadata": {},
   "outputs": [
    {
     "name": "stdout",
     "output_type": "stream",
     "text": [
      "1/1 [==============================] - 2s 2s/step\n",
      "[[-0.6656969]]\n"
     ]
    }
   ],
   "source": [
    "sample_text = ('The movie was cool. The animation and the graphics '\n",
    "               'were out of this world. I completely love this movie.')\n",
    "predictions = model.predict(np.array([sample_text]))\n",
    "print(predictions)"
   ]
  },
  {
   "cell_type": "code",
   "execution_count": 14,
   "id": "0e3293bd-0d61-4782-8c41-857aac06072e",
   "metadata": {},
   "outputs": [
    {
     "name": "stdout",
     "output_type": "stream",
     "text": [
      "1/1 [==============================] - 0s 21ms/step\n",
      "[[0.7676179 ]\n",
      " [1.5547687 ]\n",
      " [0.39530405]\n",
      " [0.16372606]]\n"
     ]
    }
   ],
   "source": [
    "a = \"I really appreciate the effort you put into this project. Great job!\"\n",
    "b = \"Thank you for your prompt response. It was very helpful.\"\n",
    "c = \"Oh, fantastic! Another meeting that could've been an email. My day is complete.\"\n",
    "d = \"Wow, your internet connection is so fast! I almost didn't have time to make a cup of coffee while waiting.\"\n",
    "predictions = model.predict(np.array([a,b,c,d]))\n",
    "print(predictions)"
   ]
  },
  {
   "cell_type": "code",
   "execution_count": null,
   "id": "d1c15ad7-83be-4e60-862e-eb380c3ff5c3",
   "metadata": {},
   "outputs": [],
   "source": []
  }
 ],
 "metadata": {
  "kernelspec": {
   "display_name": "TensorFlow Bundle",
   "language": "python",
   "name": "tensorflow-cpu"
  },
  "language_info": {
   "codemirror_mode": {
    "name": "ipython",
    "version": 3
   },
   "file_extension": ".py",
   "mimetype": "text/x-python",
   "name": "python",
   "nbconvert_exporter": "python",
   "pygments_lexer": "ipython3",
   "version": "3.9.18"
  }
 },
 "nbformat": 4,
 "nbformat_minor": 5
}
