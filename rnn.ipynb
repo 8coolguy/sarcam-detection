{
 "cells": [
  {
   "cell_type": "code",
   "execution_count": 20,
   "id": "382f61f7-8c7b-4afd-8d3c-c8f81954c724",
   "metadata": {},
   "outputs": [],
   "source": [
    "import numpy as np\n",
    "import tensorflow as tf\n",
    "import pandas as pd\n",
    "import tensorflow_datasets as tfds\n",
    "import tensorflow.keras.backend as K"
   ]
  },
  {
   "cell_type": "code",
   "execution_count": 21,
   "id": "c1ab1f9c-8f5d-4e4a-875c-890f9262374a",
   "metadata": {},
   "outputs": [],
   "source": [
    "import matplotlib.pyplot as plt\n",
    "\n",
    "\n",
    "def plot_graphs(history, metric):\n",
    "  plt.plot(history.history[metric])\n",
    "  plt.plot(history.history['val_'+metric], '')\n",
    "  plt.xlabel(\"Epochs\")\n",
    "  plt.ylabel(metric)\n",
    "  plt.legend([metric, 'val_'+metric])\n",
    "def recall_m(y_true, y_pred):\n",
    "    true_positives = K.sum(K.round(K.clip(y_true * y_pred, 0, 1)))\n",
    "    possible_positives = K.sum(K.round(K.clip(y_true, 0, 1)))\n",
    "    recall = true_positives / (possible_positives + K.epsilon())\n",
    "    return recall\n",
    "\n",
    "def precision_m(y_true, y_pred):\n",
    "    true_positives = K.sum(K.round(K.clip(y_true * y_pred, 0, 1)))\n",
    "    predicted_positives = K.sum(K.round(K.clip(y_pred, 0, 1)))\n",
    "    precision = true_positives / (predicted_positives + K.epsilon())\n",
    "    return precision\n",
    "\n",
    "def f1_m(y_true, y_pred):\n",
    "    precision = precision_m(y_true, y_pred)\n",
    "    recall = recall_m(y_true, y_pred)\n",
    "    return 2*((precision*recall)/(precision+recall+K.epsilon()))\n"
   ]
  },
  {
   "cell_type": "code",
   "execution_count": 22,
   "id": "a5928050-0290-43cf-aadb-8822ddbdbbcc",
   "metadata": {},
   "outputs": [],
   "source": [
    "VOCAB_SIZE = 10000\n",
    "BUFFER_SIZE = 10000\n",
    "BATCH_SIZE = 64"
   ]
  },
  {
   "cell_type": "code",
   "execution_count": 23,
   "id": "3c13f2b7-e068-4b4a-8f8d-1e3b8c64bd64",
   "metadata": {},
   "outputs": [],
   "source": [
    "df = pd.read_csv(\"trainb.csv\", delimiter=\"|\")\n",
    "dataset = tf.data.Dataset.from_tensor_slices((df[\"text\"],df[\"class\"]))\n",
    "\n",
    "testDf = pd.read_csv(\"testb.csv\", delimiter=\"|\")\n",
    "test = tf.data.Dataset.from_tensor_slices((testDf[\"text\"],testDf[\"class\"]))\n"
   ]
  },
  {
   "cell_type": "code",
   "execution_count": 24,
   "id": "5be7f789-3826-4e13-8641-82a55e69d103",
   "metadata": {},
   "outputs": [],
   "source": [
    "train_dataset = dataset.shuffle(BUFFER_SIZE).batch(BATCH_SIZE).prefetch(tf.data.AUTOTUNE)\n",
    "test_dataset = test.batch(BATCH_SIZE).prefetch(tf.data.AUTOTUNE)"
   ]
  },
  {
   "cell_type": "code",
   "execution_count": 28,
   "id": "0f40685c-18c7-4016-bd98-9ac8dd03ce01",
   "metadata": {},
   "outputs": [
    {
     "name": "stdout",
     "output_type": "stream",
     "text": [
      "WARNING:tensorflow:From /WAVE/users/unix/achoudhury2/.local/lib/python3.9/site-packages/tensorflow/python/autograph/pyct/static_analysis/liveness.py:83: Analyzer.lamba_check (from tensorflow.python.autograph.pyct.static_analysis.liveness) is deprecated and will be removed after 2023-09-23.\n",
      "Instructions for updating:\n",
      "Lambda fuctions will be no more assumed to be used in the statement where they are used, or at least in the same block. https://github.com/tensorflow/tensorflow/issues/56089\n"
     ]
    }
   ],
   "source": [
    "encoder = tf.keras.layers.TextVectorization(max_tokens=VOCAB_SIZE)\n",
    "encoder.adapt(train_dataset.map(lambda text, label: text))\n"
   ]
  },
  {
   "cell_type": "code",
   "execution_count": 29,
   "id": "adf5fe8f-1ad8-4053-8d9d-85283b3bb5ee",
   "metadata": {},
   "outputs": [
    {
     "data": {
      "text/plain": [
       "array(['', '[UNK]', 'the', 'to', 'a', 'of', 'is', 'in', 'and', 'i', 'for',\n",
       "       'this', 'that', 'you', 'on', 'it', 'be', 'with', 'are', 'what',\n",
       "       'have', 'not', 'my', 'so', 'at', 'they', 'just', 'was', 'but',\n",
       "       'like', 'its', 'as', 'if', 'all', 'he', 'from', 'people', 'how',\n",
       "       'we', 'your', 'will', 'about', 'do', 'an', 'no', 'by', 'can',\n",
       "       'one', 'has', 'would', 'dont', 'get', 'his', 'who', 'out', 'me',\n",
       "       'when', 'because', 'why', 'more', 'up', 'im', 'or', 'their', 'new',\n",
       "       'now', 'only', 'good', 'should', 'think', 'game', 'there', 'trump',\n",
       "       'than', 'time', 'after', 'know', 'them', 'well', 'some', 'see',\n",
       "       'us', 'thats', 'make', 'him', 'really', 'right', 'cant', 'man',\n",
       "       'were', 'being', 'over', 'first', 'her', 'got', 'been', 'did',\n",
       "       'too', 'going', 'could'], dtype='<U17')"
      ]
     },
     "execution_count": 29,
     "metadata": {},
     "output_type": "execute_result"
    }
   ],
   "source": [
    "vocab = np.array(encoder.get_vocabulary())\n",
    "vocab[:100]"
   ]
  },
  {
   "cell_type": "code",
   "execution_count": 30,
   "id": "1807676b-c12a-419c-b708-54d6d4ca32aa",
   "metadata": {},
   "outputs": [
    {
     "name": "stdout",
     "output_type": "stream",
     "text": [
      "[False, True, True, True, True]\n"
     ]
    }
   ],
   "source": [
    "model = tf.keras.Sequential([\n",
    "    encoder,\n",
    "    tf.keras.layers.Embedding(\n",
    "        input_dim=len(encoder.get_vocabulary()),\n",
    "        output_dim=64,\n",
    "        # Use masking to handle the variable sequence lengths\n",
    "        mask_zero=True),\n",
    "    tf.keras.layers.SimpleRNN(64),\n",
    "    tf.keras.layers.Dense(64, activation='relu'),\n",
    "    tf.keras.layers.Dense(1)\n",
    "])\n",
    "print([layer.supports_masking for layer in model.layers])"
   ]
  },
  {
   "cell_type": "code",
   "execution_count": 31,
   "id": "68cfbefd-3919-48fc-8ba8-b68a4dba7852",
   "metadata": {},
   "outputs": [],
   "source": [
    "model.compile(loss=tf.keras.losses.BinaryCrossentropy(from_logits=True),\n",
    "              optimizer=tf.keras.optimizers.Adam(1e-4),\n",
    "              metrics=['accuracy', \n",
    "                        f1_m,\n",
    "                        # recall_m,\n",
    "                        # precision_m,\n",
    "                        # tf.keras.metrics.Precision(),\n",
    "                        # tf.keras.metrics.Recall(),\n",
    "                        # 'F1Score'\n",
    "                      ]\n",
    "             )"
   ]
  },
  {
   "cell_type": "code",
   "execution_count": 32,
   "id": "79655317-ca4a-4df5-85fb-0d1f88af5543",
   "metadata": {},
   "outputs": [],
   "source": [
    "# for example, label in train_dataset.take(1):\n",
    "#     print('texts: ', example.numpy()[:3])\n",
    "#     encoded_example = encoder(example)[:3].numpy()\n",
    "#     for n in range(3):\n",
    "#         print(\"Original: \", example[n].numpy())\n",
    "#         print(\"Round-trip: \", \" \".join(vocab[encoded_example[n]]))\n",
    "#         print()\n",
    "#     print('labels: ', label.numpy()[:3])"
   ]
  },
  {
   "cell_type": "code",
   "execution_count": 33,
   "id": "8ee6aad2-421e-4383-9909-eb3e7be86ba4",
   "metadata": {},
   "outputs": [
    {
     "name": "stdout",
     "output_type": "stream",
     "text": [
      "Epoch 1/10\n",
      "4017/4017 [==============================] - 66s 16ms/step - loss: 0.6665 - accuracy: 0.5532 - f1_m: 0.2463 - val_loss: 0.6459 - val_accuracy: 0.5880 - val_f1_m: 0.3833\n",
      "Epoch 2/10\n",
      "4017/4017 [==============================] - 64s 16ms/step - loss: 0.6186 - accuracy: 0.6316 - f1_m: 0.5101 - val_loss: 0.6391 - val_accuracy: 0.6172 - val_f1_m: 0.4957\n",
      "Epoch 3/10\n",
      "4017/4017 [==============================] - 65s 16ms/step - loss: 0.5867 - accuracy: 0.6683 - f1_m: 0.5844 - val_loss: 0.6478 - val_accuracy: 0.6089 - val_f1_m: 0.5260\n",
      "Epoch 4/10\n",
      "4017/4017 [==============================] - 65s 16ms/step - loss: 0.5460 - accuracy: 0.7068 - f1_m: 0.6500 - val_loss: 0.6746 - val_accuracy: 0.6068 - val_f1_m: 0.5256\n",
      "Epoch 5/10\n",
      "4017/4017 [==============================] - 65s 16ms/step - loss: 0.4980 - accuracy: 0.7453 - f1_m: 0.7068 - val_loss: 0.7154 - val_accuracy: 0.6052 - val_f1_m: 0.5558\n",
      "Epoch 6/10\n",
      "4017/4017 [==============================] - 65s 16ms/step - loss: 0.4481 - accuracy: 0.7807 - f1_m: 0.7543 - val_loss: 0.7815 - val_accuracy: 0.5990 - val_f1_m: 0.5364\n",
      "Epoch 7/10\n",
      "4017/4017 [==============================] - 64s 16ms/step - loss: 0.3994 - accuracy: 0.8120 - f1_m: 0.7938 - val_loss: 0.8625 - val_accuracy: 0.5958 - val_f1_m: 0.5491\n",
      "Epoch 8/10\n",
      "4017/4017 [==============================] - 65s 16ms/step - loss: 0.3533 - accuracy: 0.8395 - f1_m: 0.8264 - val_loss: 0.9650 - val_accuracy: 0.5979 - val_f1_m: 0.5706\n",
      "Epoch 9/10\n",
      "4017/4017 [==============================] - 65s 16ms/step - loss: 0.3111 - accuracy: 0.8624 - f1_m: 0.8531 - val_loss: 1.0855 - val_accuracy: 0.5844 - val_f1_m: 0.5506\n",
      "Epoch 10/10\n",
      "4017/4017 [==============================] - 65s 16ms/step - loss: 0.2723 - accuracy: 0.8829 - f1_m: 0.8763 - val_loss: 1.2574 - val_accuracy: 0.5911 - val_f1_m: 0.5657\n"
     ]
    }
   ],
   "source": [
    "history = model.fit(train_dataset, epochs=10,\n",
    "                    validation_data=test_dataset,\n",
    "                    validation_steps=30)"
   ]
  },
  {
   "cell_type": "code",
   "execution_count": 35,
   "id": "517b3401-a468-4570-83fe-edf65faf8b71",
   "metadata": {},
   "outputs": [
    {
     "name": "stdout",
     "output_type": "stream",
     "text": [
      "1011/1011 [==============================] - 5s 5ms/step - loss: 1.2549 - accuracy: 0.5848 - f1_m: 0.5610\n",
      "dict_keys(['loss', 'accuracy', 'f1_m', 'val_loss', 'val_accuracy', 'val_f1_m'])\n",
      "Test Loss: 1.2549142837524414\n",
      "Test Accuracy: 0.584789514541626\n",
      "Test F1: 0.561002254486084\n"
     ]
    },
    {
     "data": {
      "text/plain": [
       "(0.0, 0.6862009555101395)"
      ]
     },
     "execution_count": 35,
     "metadata": {},
     "output_type": "execute_result"
    },
    {
     "data": {
      "image/png": "[encoded data removed]",
      "text/plain": [
       "<Figure size 1600x800 with 2 Axes>"
      ]
     },
     "metadata": {},
     "output_type": "display_data"
    }
   ],
   "source": [
    "test_loss, test_acc, test_f1 = model.evaluate(test_dataset)\n",
    "\n",
    "print(history.history.keys())\n",
    "\n",
    "print('Test Loss:', test_loss)\n",
    "print('Test Accuracy:', test_acc)\n",
    "print('Test F1:', test_f1)\n",
    "plt.figure(figsize=(16, 8))\n",
    "plt.subplot(1, 2, 1)\n",
    "plot_graphs(history, 'accuracy')\n",
    "plt.ylim(None, 1)\n",
    "plt.subplot(1, 2, 2)\n",
    "plot_graphs(history, 'loss')\n",
    "plt.ylim(0, None)"
   ]
  },
  {
   "cell_type": "code",
   "execution_count": 1,
   "id": "a2e45cc2-63c8-4c58-b743-f77d30ca66ee",
   "metadata": {},
   "outputs": [
    {
     "ename": "NameError",
     "evalue": "name 'model' is not defined",
     "output_type": "error",
     "traceback": [
      "\u001b[0;31m---------------------------------------------------------------------------\u001b[0m",
      "\u001b[0;31mNameError\u001b[0m                                 Traceback (most recent call last)",
      "Cell \u001b[0;32mIn[1], line 5\u001b[0m\n\u001b[1;32m      3\u001b[0m c \u001b[38;5;241m=\u001b[39m \u001b[38;5;124m\"\u001b[39m\u001b[38;5;124mOh, fantastic! Another meeting that could\u001b[39m\u001b[38;5;124m'\u001b[39m\u001b[38;5;124mve been an email. My day is complete.\u001b[39m\u001b[38;5;124m\"\u001b[39m\n\u001b[1;32m      4\u001b[0m d \u001b[38;5;241m=\u001b[39m \u001b[38;5;124m\"\u001b[39m\u001b[38;5;124mWow, your internet connection is so fast! I almost didn\u001b[39m\u001b[38;5;124m'\u001b[39m\u001b[38;5;124mt have time to make a cup of coffee while waiting.\u001b[39m\u001b[38;5;124m\"\u001b[39m\n\u001b[0;32m----> 5\u001b[0m predictions \u001b[38;5;241m=\u001b[39m \u001b[43mmodel\u001b[49m\u001b[38;5;241m.\u001b[39mpredict(np\u001b[38;5;241m.\u001b[39marray([c,d,a,b]))\n",
      "\u001b[0;31mNameError\u001b[0m: name 'model' is not defined"
     ]
    }
   ],
   "source": [
    "a = \"I really appreciate the effort you put into this project. Great job!\"\n",
    "b = \"Thank you for your prompt response. It was very helpful.\"\n",
    "c = \"Oh, fantastic! Another meeting that could've been an email. My day is complete.\"\n",
    "d = \"Wow, your internet connection is so fast! I almost didn't have time to make a cup of coffee while waiting.\"\n",
    "predictions = model.predict(np.array([c,d,a,b]))"
   ]
  },
  {
   "cell_type": "code",
   "execution_count": 40,
   "id": "0e3293bd-0d61-4782-8c41-857aac06072e",
   "metadata": {},
   "outputs": [
    {
     "data": {
      "text/plain": [
       "array([[ 1.0182008e+00],\n",
       "       [ 2.2629399e+00],\n",
       "       [ 2.9341262e-03],\n",
       "       [-3.0203838e+00]], dtype=float32)"
      ]
     },
     "execution_count": 40,
     "metadata": {},
     "output_type": "execute_result"
    }
   ],
   "source": [
    "predictions "
   ]
  },
  {
   "cell_type": "code",
   "execution_count": null,
   "id": "970246ea-a509-41ff-b015-95a2232856ca",
   "metadata": {},
   "outputs": [],
   "source": []
  }
 ],
 "metadata": {
  "kernelspec": {
   "display_name": "TensorFlow Bundle",
   "language": "python",
   "name": "tensorflow-cpu"
  },
  "language_info": {
   "codemirror_mode": {
    "name": "ipython",
    "version": 3
   },
   "file_extension": ".py",
   "mimetype": "text/x-python",
   "name": "python",
   "nbconvert_exporter": "python",
   "pygments_lexer": "ipython3",
   "version": "3.9.18"
  }
 },
 "nbformat": 4,
 "nbformat_minor": 5
}
